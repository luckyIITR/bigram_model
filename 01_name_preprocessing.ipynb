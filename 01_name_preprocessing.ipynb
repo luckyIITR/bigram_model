{
 "cells": [
  {
   "cell_type": "code",
   "execution_count": 108,
   "id": "9dd300d8-ea4b-421e-a213-d6c56c533012",
   "metadata": {},
   "outputs": [],
   "source": [
    "import pandas as pd\n",
    "import re"
   ]
  },
  {
   "cell_type": "code",
   "execution_count": 109,
   "id": "5bf56b09-0b95-49cc-84b4-fd8bade73c6e",
   "metadata": {},
   "outputs": [
    {
     "data": {
      "text/plain": [
       "(              name gender    race\n",
       " 0          shivani      f  indian\n",
       " 1             isha      f  indian\n",
       " 2  smt shyani devi      f  indian\n",
       " 3            divya      f  indian\n",
       " 4            mansi      f  indian,\n",
       "               name gender    race\n",
       " 0          barjraj      m  indian\n",
       " 1     ramdin verma      m  indian\n",
       " 2  sharat chandran      m  indian\n",
       " 3  birender mandal      m  indian\n",
       " 4             amit      m  indian)"
      ]
     },
     "execution_count": 109,
     "metadata": {},
     "output_type": "execute_result"
    }
   ],
   "source": [
    "df_male = pd.read_csv(\"data/Indian-Male-Names.csv\")\n",
    "df_female = pd.read_csv(\"data/Indian-Female-Names.csv\")\n",
    "\n",
    "df_female.head(), df_male.head()"
   ]
  },
  {
   "cell_type": "code",
   "execution_count": 110,
   "id": "96e32a31-43f1-4daf-8a70-565866059027",
   "metadata": {},
   "outputs": [],
   "source": [
    "# get only the name\n",
    "df = pd.concat([df_male, df_female])\n",
    "df = df.sample(frac=1)\n",
    "df = df[df['name'].apply(lambda x: str(x).isascii())]\n",
    "names = list(df['name'].values)"
   ]
  },
  {
   "cell_type": "code",
   "execution_count": 111,
   "id": "17d7cd13-8454-4fd1-9851-7af10f6301c6",
   "metadata": {},
   "outputs": [
    {
     "data": {
      "text/plain": [
       "['mahipal', 'nanhe', 'vashudev', 'nandni d/o late jagdish', 'divya']"
      ]
     },
     "execution_count": 111,
     "metadata": {},
     "output_type": "execute_result"
    }
   ],
   "source": [
    "names[:5]"
   ]
  },
  {
   "cell_type": "code",
   "execution_count": 112,
   "id": "3d118c7f-ca72-437f-a73b-05a42d902e6c",
   "metadata": {},
   "outputs": [],
   "source": [
    "# extract first name\n",
    "def extract_first_name(name):\n",
    "    name = str(name).lower().strip()\n",
    "    name = name.split('@')[0]\n",
    "    prefixes = ['mr', 'mrs', 'ms', 'dr', 'shri', 'smt', 'mr.', 'mrs.', 'ms.', 'dr.', 'shri.', 'smt.', 'kr.', 'ku.', 'md', 'md.', 'mr-', 'mrs-', 'ms-', 'dr-', 'shri-', 'smt-', 'md-']\n",
    "    words = name.split()\n",
    "    words = [word for word in words if (word not in prefixes) and len(word) > 2]\n",
    "\n",
    "    # Return the first word as first name if available\n",
    "    return words[0] if words else None"
   ]
  },
  {
   "cell_type": "code",
   "execution_count": 113,
   "id": "3627c000-06a9-44a0-90a9-d15f086961ab",
   "metadata": {},
   "outputs": [],
   "source": [
    "names = list(map(extract_first_name, names))\n",
    "# filter out strings that contain only the 26 English alphabet letter\n",
    "names = [s for s in names if (s is not None) and re.fullmatch(r\"[a-zA-Z]+\", s)]"
   ]
  },
  {
   "cell_type": "code",
   "execution_count": 114,
   "id": "608e5817-b5ff-496d-84c6-740c766f0bcf",
   "metadata": {},
   "outputs": [
    {
     "name": "stdout",
     "output_type": "stream",
     "text": [
      "['mahipal', 'nanhe', 'vashudev', 'nandni', 'divya']\n"
     ]
    }
   ],
   "source": [
    "print(names[:5])"
   ]
  },
  {
   "cell_type": "code",
   "execution_count": 115,
   "id": "af5ad341-16c4-4a04-a9fd-c22a030c5d82",
   "metadata": {},
   "outputs": [],
   "source": [
    "with open(\"data/names.txt\", \"w\") as file:\n",
    "    for line in names:\n",
    "        file.write(line + \"\\n\")"
   ]
  },
  {
   "cell_type": "code",
   "execution_count": null,
   "id": "9a1b4539-35d7-4651-844c-e62060674fa9",
   "metadata": {},
   "outputs": [],
   "source": []
  }
 ],
 "metadata": {
  "kernelspec": {
   "display_name": "Python [conda env:backtest] *",
   "language": "python",
   "name": "conda-env-backtest-py"
  },
  "language_info": {
   "codemirror_mode": {
    "name": "ipython",
    "version": 3
   },
   "file_extension": ".py",
   "mimetype": "text/x-python",
   "name": "python",
   "nbconvert_exporter": "python",
   "pygments_lexer": "ipython3",
   "version": "3.12.4"
  }
 },
 "nbformat": 4,
 "nbformat_minor": 5
}
